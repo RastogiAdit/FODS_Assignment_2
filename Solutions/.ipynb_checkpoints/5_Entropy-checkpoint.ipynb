{
 "cells": [
  {
   "cell_type": "markdown",
   "id": "683b3231",
   "metadata": {},
   "source": [
    "# Part 5: Entropy"
   ]
  },
  {
   "cell_type": "code",
   "execution_count": 2,
   "id": "763a2ea4",
   "metadata": {},
   "outputs": [],
   "source": [
    "import pandas as pd\n",
    "import numpy as np\n",
    "import matplotlib.pyplot as plt\n",
    "from scipy.stats import beta\n",
    "import seaborn as sns\n",
    "from sklearn.decomposition import PCA\n",
    "from sklearn.preprocessing import StandardScaler"
   ]
  },
  {
   "cell_type": "markdown",
   "id": "8ef275c8",
   "metadata": {},
   "source": [
    "## Taking Inputs"
   ]
  },
  {
   "cell_type": "code",
   "execution_count": 3,
   "id": "e0648b93",
   "metadata": {},
   "outputs": [
    {
     "name": "stdout",
     "output_type": "stream",
     "text": [
      "n: \n",
      "5\n",
      "m: \n",
      "3\n",
      "k: \n",
      "3\n"
     ]
    }
   ],
   "source": [
    "print(\"n: \")\n",
    "n = int(input())\n",
    "print(\"m: \")\n",
    "m = int(input())\n",
    "print(\"k: \")\n",
    "k = int(input())"
   ]
  },
  {
   "cell_type": "code",
   "execution_count": 10,
   "id": "14589d2e",
   "metadata": {},
   "outputs": [
    {
     "name": "stdout",
     "output_type": "stream",
     "text": [
      "0\n",
      "1\n",
      "1\n",
      "1\n",
      "0\n",
      "1\n",
      "0\n",
      "1\n",
      "0\n",
      "1\n",
      "0\n",
      "0\n",
      "1\n",
      "1\n",
      "1\n",
      "0\n",
      "1\n",
      "0\n",
      "1\n",
      "1\n"
     ]
    }
   ],
   "source": [
    "X = []\n",
    "for i in range(n):\n",
    "    a = []\n",
    "    for j in range(m):\n",
    "        a.append(int(input()))\n",
    "    X.append(a)\n",
    "y = []\n",
    "for i in range(n):\n",
    "    y.append(int(input()))"
   ]
  },
  {
   "cell_type": "code",
   "execution_count": 22,
   "id": "60c37054",
   "metadata": {},
   "outputs": [
    {
     "name": "stdout",
     "output_type": "stream",
     "text": [
      "3\n"
     ]
    }
   ],
   "source": [
    "print(len(X[0]))"
   ]
  },
  {
   "cell_type": "code",
   "execution_count": 11,
   "id": "058d14a1",
   "metadata": {},
   "outputs": [
    {
     "name": "stdout",
     "output_type": "stream",
     "text": [
      "0 1 1 \n",
      "\n",
      "1 0 1 \n",
      "\n",
      "0 1 0 \n",
      "\n",
      "1 0 0 \n",
      "\n",
      "1 1 1 \n",
      "\n",
      "0 1 0 1 1 "
     ]
    }
   ],
   "source": [
    "for i in range(n):\n",
    "    for j in range(m):\n",
    "        print(X[i][j], end=' ')\n",
    "    print(\"\\n\")\n",
    "\n",
    "for i in range(n):\n",
    "    print(y[i], end=' ')"
   ]
  },
  {
   "cell_type": "markdown",
   "id": "07ea7b44",
   "metadata": {},
   "source": [
    "## Writing Functions"
   ]
  },
  {
   "cell_type": "code",
   "execution_count": 46,
   "id": "767c1478",
   "metadata": {},
   "outputs": [],
   "source": [
    "def entropy_cal(p, n):\n",
    "    if p == 0 or n==0:\n",
    "        return 0\n",
    "    prob_plus = float(p/(p+n))\n",
    "    prob_minus = float(n/(p+n))\n",
    "    ans = prob_plus * np.log2(prob_plus) + prob_minus * np.log2(prob_minus)\n",
    "    ans = ans * (-1)\n",
    "    return ans"
   ]
  },
  {
   "cell_type": "code",
   "execution_count": 56,
   "id": "0844779f",
   "metadata": {},
   "outputs": [],
   "source": [
    "def feature_selection(X, y, k): \n",
    "    n = len(X)\n",
    "    m = len(X[0])\n",
    "    column_name = []\n",
    "    information_gain_column = []\n",
    "    for i in range(m):\n",
    "        column_name.append(i+1)\n",
    "        information_gain_column.append(0)\n",
    "    \n",
    "    target_pos = 0\n",
    "    target_neg = 0\n",
    "    for i in y:\n",
    "        if i == 1:\n",
    "            target_pos += 1\n",
    "        else:\n",
    "            target_neg += 1\n",
    "    \n",
    "    entropy_target = entropy_cal(target_pos, target_neg)\n",
    "    \n",
    "    for j in range(m):\n",
    "        number_of_one = 0\n",
    "        number_of_zero = 0\n",
    "        number_of_one_pos = 0\n",
    "        number_of_one_neg = 0\n",
    "        number_of_zero_pos = 0\n",
    "        number_of_zero_neg = 0\n",
    "        for i in range(n):\n",
    "            if X[i][j] == 1:\n",
    "                number_of_one += 1\n",
    "                if y[i] == 1:\n",
    "                    number_of_one_pos += 1\n",
    "                else:\n",
    "                    number_of_one_neg += 1\n",
    "            else:\n",
    "                number_of_zero += 1\n",
    "                if y[i] == 1:\n",
    "                    number_of_zero_pos += 1\n",
    "                else:\n",
    "                    number_of_zero_neg += 1\n",
    "        information_gain = float(entropy_target - ((number_of_one/n)*entropy_cal(number_of_one_pos, number_of_one_neg)) - ((number_of_zero/n)*entropy_cal(number_of_zero_pos, number_of_zero_neg)))\n",
    "        information_gain_column[j] = information_gain\n",
    "        \n",
    "    \n",
    "    for i in range(m):\n",
    "        j = i+1\n",
    "        while j<m-1:\n",
    "            if information_gain_column[i] < information_gain_column[j]:\n",
    "                temp = information_gain_column[i]\n",
    "                information_gain_column[i] = information_gain_column[j]\n",
    "                information_gain_column[j] = temp\n",
    "                \n",
    "                temp = column_name[i]\n",
    "                column_name[i] = column_name[j]\n",
    "                column_name[j] = temp\n",
    "            j += 1\n",
    "            \n",
    "    for i in information_gain_column:\n",
    "        print(i)\n",
    "    \n",
    "    ans = []\n",
    "    \n",
    "    for i in range(k):\n",
    "        ans.append(column_name[i])\n",
    "        \n",
    "    return ans\n",
    "          "
   ]
  },
  {
   "cell_type": "markdown",
   "id": "c770e0ab",
   "metadata": {},
   "source": [
    "## Executing The Fucntions"
   ]
  },
  {
   "cell_type": "code",
   "execution_count": 59,
   "id": "5b34272c",
   "metadata": {
    "scrolled": true
   },
   "outputs": [
    {
     "name": "stdout",
     "output_type": "stream",
     "text": [
      "0.9709505944546686\n",
      "0.4199730940219749\n",
      "0.01997309402197489\n"
     ]
    }
   ],
   "source": [
    "ans = feature_selection(X, y, k)"
   ]
  },
  {
   "cell_type": "code",
   "execution_count": 60,
   "id": "154887ae",
   "metadata": {},
   "outputs": [
    {
     "name": "stdout",
     "output_type": "stream",
     "text": [
      "1 2 3 "
     ]
    }
   ],
   "source": [
    "for i in ans:\n",
    "    print(i, end=' ')"
   ]
  }
 ],
 "metadata": {
  "kernelspec": {
   "display_name": "Python 3 (ipykernel)",
   "language": "python",
   "name": "python3"
  },
  "language_info": {
   "codemirror_mode": {
    "name": "ipython",
    "version": 3
   },
   "file_extension": ".py",
   "mimetype": "text/x-python",
   "name": "python",
   "nbconvert_exporter": "python",
   "pygments_lexer": "ipython3",
   "version": "3.10.9"
  }
 },
 "nbformat": 4,
 "nbformat_minor": 5
}
