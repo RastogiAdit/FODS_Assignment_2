{
 "cells": [
  {
   "cell_type": "markdown",
   "id": "cf2954c1",
   "metadata": {},
   "source": [
    "# P1: KL Divergence Calculation"
   ]
  },
  {
   "cell_type": "code",
   "execution_count": 1,
   "id": "efea8cfd",
   "metadata": {},
   "outputs": [],
   "source": [
    "import numpy as np"
   ]
  },
  {
   "cell_type": "code",
   "execution_count": 2,
   "id": "f5aa104c",
   "metadata": {},
   "outputs": [],
   "source": [
    "def kl_divergence(p, q):\n",
    "    if not (np.isclose(sum(p), 1) and np.isclose(sum(q), 1)):\n",
    "        raise ValueError(\"The probabilities don't add up to 1\")\n",
    "    if any (x < 0 for x in p) or any(x < 0 for x in q):\n",
    "        raise ValueError(\"Probabilities can't be negative\")\n",
    "    kl = 0\n",
    "    for p_i, q_t in zip(p, q):\n",
    "        if p_i > 0:\n",
    "            kl += p_i * np.log2(p_i / q_t)\n",
    "    \n",
    "    return kl"
   ]
  },
  {
   "cell_type": "code",
   "execution_count": 5,
   "id": "ee942377",
   "metadata": {},
   "outputs": [
    {
     "name": "stdout",
     "output_type": "stream",
     "text": [
      "Do you want to enter your own values? (y/n)\n",
      "n\n",
      "KL Divergence value is \n",
      "0.1415\n"
     ]
    }
   ],
   "source": [
    "p_default = [0.1, 0.3, 0.4, 0.1, 0.1]\n",
    "q_default = [0.2, 0.2, 0.3, 0.2, 0.1]\n",
    "\n",
    "print(\"Do you want to enter your own values? (y/n)\")\n",
    "choice = input()\n",
    "if choice == 'y':\n",
    "    print (\"Enter size of random variables\")\n",
    "    n = int(input())\n",
    "    p = []\n",
    "    q = []\n",
    "    print(\"Enter values of p\")\n",
    "    for i in range(n):\n",
    "        p.append(float(input()))\n",
    "    print(\"Enter values of q\")\n",
    "    for i in range(n):\n",
    "        q.append(float(input()))\n",
    "    ans = kl_divergence(p, q)\n",
    "else:\n",
    "    ans = kl_divergence(p_default, q_default)\n",
    "\n",
    "print(\"KL Divergence value is \")\n",
    "print(f'{ans:.4f}')"
   ]
  },
  {
   "cell_type": "code",
   "execution_count": null,
   "id": "15f3689d",
   "metadata": {},
   "outputs": [],
   "source": []
  }
 ],
 "metadata": {
  "kernelspec": {
   "display_name": "Python 3 (ipykernel)",
   "language": "python",
   "name": "python3"
  },
  "language_info": {
   "codemirror_mode": {
    "name": "ipython",
    "version": 3
   },
   "file_extension": ".py",
   "mimetype": "text/x-python",
   "name": "python",
   "nbconvert_exporter": "python",
   "pygments_lexer": "ipython3",
   "version": "3.10.9"
  }
 },
 "nbformat": 4,
 "nbformat_minor": 5
}
