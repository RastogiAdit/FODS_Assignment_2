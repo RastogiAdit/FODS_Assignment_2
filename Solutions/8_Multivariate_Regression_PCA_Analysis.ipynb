{
 "cells": [
  {
   "cell_type": "markdown",
   "id": "eab2c722",
   "metadata": {},
   "source": [
    "# Part 8: Multivariate Regression, PCA Analysis"
   ]
  },
  {
   "cell_type": "code",
   "execution_count": null,
   "id": "06b69b3d",
   "metadata": {},
   "outputs": [],
   "source": []
  }
 ],
 "metadata": {
  "kernelspec": {
   "display_name": "Python 3 (ipykernel)",
   "language": "python",
   "name": "python3"
  },
  "language_info": {
   "codemirror_mode": {
    "name": "ipython",
    "version": 3
   },
   "file_extension": ".py",
   "mimetype": "text/x-python",
   "name": "python",
   "nbconvert_exporter": "python",
   "pygments_lexer": "ipython3",
   "version": "3.10.9"
  }
 },
 "nbformat": 4,
 "nbformat_minor": 5
}
